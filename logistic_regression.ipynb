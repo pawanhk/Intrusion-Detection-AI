{
 "cells": [
  {
   "cell_type": "code",
   "execution_count": 3,
   "id": "400c51ff-93f0-4b62-9108-77f32da9118f",
   "metadata": {},
   "outputs": [],
   "source": [
    "# LOGISTIC REGRESSION CLASSIFIER \n",
    "# Pawan Harikrishnan & Parinita Mithepati \n",
    "\n",
    "# Description:\n",
    "# This program implements the logisitic regression model to perform binary classification on the KDD90 data set \n",
    "# Logistic Regression uses the logistic function to map the prediction between two binary values 0 and 1 \n",
    "# This program uses the scikit logistic regression model to classify data as either normal or not normal "
   ]
  },
  {
   "cell_type": "code",
   "execution_count": 96,
   "id": "f7a4cab5-2224-4624-a340-0826d577f5d5",
   "metadata": {},
   "outputs": [],
   "source": [
    "# STEP 1 - Import the training and test files for the dataset \n",
    "import pandas as pd \n",
    "import numpy as np\n",
    "# training data import\n",
    "training_data = pd.read_csv('train_kdd_small.csv')\n",
    "# testing data import\n",
    "testing_data = pd.read_csv('test_kdd_small.csv')\n",
    "# testing and training data do not have the same the distribution"
   ]
  },
  {
   "cell_type": "code",
   "execution_count": 97,
   "id": "ebf6c59b-8db1-42f3-8c1f-52a1600ae1cc",
   "metadata": {},
   "outputs": [],
   "source": [
    "# check the files to make sure theyre being imported correctly \n",
    "#print(training_data)\n",
    "#print(testing_data)"
   ]
  },
  {
   "cell_type": "code",
   "execution_count": 98,
   "id": "962d165c-7bf2-43c9-b273-59baa0ceb618",
   "metadata": {},
   "outputs": [],
   "source": [
    "# STEP 2 - Dataset needs to be modified as not all the columns have numbers as data type \n",
    "# Protocol Type - icmp, tcp \n",
    "# Service - ecr_i, http \n",
    "# Flag - SF\n",
    "# Label - not_normal, normal \n",
    "from sklearn.preprocessing import LabelEncoder\n",
    "\n",
    "# create the label encoder \n",
    "encoder_string_converted_label = LabelEncoder()\n",
    "\n",
    "# 1.) encode protocol type where icmp = 0, tcp = 1\n",
    "encoder_string_converted_label.fit(training_data['protocol_type'])\n",
    "# map to the testing and training data\n",
    "training_data['protocol_type'] = encoder_string_converted_label.transform(training_data['protocol_type'])\n",
    "testing_data['protocol_type'] = encoder_string_converted_label.transform(testing_data['protocol_type'])\n",
    "# check the data to make sure its getting converted \n",
    "#print(training_data['protocol_type'])\n",
    "#print(testing_data['protocol_type'])\n",
    "\n",
    "# 2.) encode servicve type where ecr_i = 0, http = 1\n",
    "encoder_string_converted_label.fit(training_data['service'])\n",
    "# map to the testing and training data\n",
    "training_data['service'] = encoder_string_converted_label.transform(training_data['service'])\n",
    "testing_data['service'] = encoder_string_converted_label.transform(testing_data['service'])\n",
    "# check the data to make sure its getting converted \n",
    "#print(training_data['service'])\n",
    "#print(testing_data['service'])\n",
    "\n",
    "# 3.) encode flag type where SF=0\n",
    "encoder_string_converted_label.fit(training_data['flag'])\n",
    "# map to the testing and training data\n",
    "training_data['flag'] = encoder_string_converted_label.transform(training_data['flag'])\n",
    "testing_data['flag'] = encoder_string_converted_label.transform(testing_data['flag'])\n",
    "# check the data to make sure its getting converted \n",
    "#print(training_data['flag'])\n",
    "#print(testing_data['flag'])\n",
    "\n",
    "\n",
    "# 4.) encode label type where not_normal = 0, http = 1\n",
    "encoder_string_converted_label.fit(training_data['label'])\n",
    "# map to the testing and training data\n",
    "training_data['label'] = encoder_string_converted_label.transform(training_data['label'])\n",
    "testing_data['label'] = encoder_string_converted_label.transform(testing_data['label'])\n",
    "# check the data to make sure its getting converted \n",
    "#print(training_data['label'])\n",
    "#print(testing_data['label'])"
   ]
  },
  {
   "cell_type": "code",
   "execution_count": 99,
   "id": "3af7fa00-3fd8-4be3-8775-67cb86b41dd4",
   "metadata": {},
   "outputs": [],
   "source": [
    "# STEP 3 - The model now needs to be trained using the training set without the labels\n",
    "from sklearn.model_selection import train_test_split\n",
    "\n",
    "# NEW TRAINING FILE\n",
    "x_training_final = training_data.drop('label',axis=1)\n",
    "y_training_final = training_data['label']\n",
    "# check to make sure it dropped the last column\n",
    "#print(x_training_final.shape)\n",
    "#print(x_training_final.head())\n",
    "#print(y_training_final.head())\n",
    "\n",
    "# NEW TESTING FILE\n",
    "x_testing_final = testing_data.drop('label',axis=1)\n",
    "y_testing_final = testing_data['label']\n",
    "# check to make sure it dropped the last column\n",
    "#print(x_testing_final.shape)\n",
    "#print(x_testing_final.head())\n",
    "#print(y_testing_final.head())"
   ]
  },
  {
   "cell_type": "code",
   "execution_count": 126,
   "id": "07a36d6a-1c4c-4c9d-8d77-bf55fbafc0ca",
   "metadata": {},
   "outputs": [],
   "source": [
    "# STEP 4 (OPTIMIZATION STEP) \n",
    "# currently the model is too good, so its probably running into overfitting issues \n",
    "# this is the model output with no optimization steps\n",
    "\n",
    "# MODEL OUTPUT\n",
    "# Model Accuracy : % 100.0\n",
    "# Model Precision: % 100.0\n",
    "# Model Recall   : % 100.0\n",
    "# Model F1 Score : % 100.0\n",
    "\n",
    "# 1.) add the l2 regularzation penalty  \n",
    "\n",
    "# 2.) choose a really low value for C \n",
    "\n",
    "# 3.) add noice to the training data  (skipping for now)\n",
    "\n",
    "# 4.) normalize the data \n",
    "from sklearn.preprocessing import StandardScaler\n",
    "\n",
    "# create the scalar first\n",
    "scaler_logistic_regression = StandardScaler()\n",
    "\n",
    "\n",
    "# normalize x_training_final and x_testing_final from the last step so some features are not too skewed, need to do fit_transform first or it;ll throw an error\n",
    "x_training_normalized = scaler_logistic_regression.fit_transform(x_training_final)\n",
    "x_testing_normalized  = scaler_logistic_regression.transform(x_testing_final)\n"
   ]
  },
  {
   "cell_type": "code",
   "execution_count": 170,
   "id": "7ac87afa-4d01-4ecb-9330-87ef56a8cd88",
   "metadata": {},
   "outputs": [
    {
     "name": "stdout",
     "output_type": "stream",
     "text": [
      "Final Model Metrics: \n",
      "Model Accuracy : % 99.58298582151794\n",
      "Model Precision: % 100.0\n",
      "Model Recall   : % 99.1652754590985\n",
      "Model F1 Score : % 99.58088851634534\n"
     ]
    }
   ],
   "source": [
    "# STEP 5 - Create and run the model on the modified dataset with the normalized values \n",
    "from sklearn.linear_model import LogisticRegression\n",
    "\n",
    "# set the model type to be the logistic regression model \n",
    "model = LogisticRegression(penalty='l2',C=0.0001, solver='liblinear', max_iter=1000, random_state=1) \n",
    "\n",
    "# fit the model using the normalized training and testing created above\n",
    "model.fit(x_training_normalized,y_training_final)\n",
    "\n",
    "# FINAL MODEL PREDICTIONS \n",
    "y_final_prediction = model.predict(x_testing_normalized)\n",
    "\n",
    "\n",
    "# FINAL SCORES \n",
    "from sklearn.metrics import accuracy_score, precision_score, recall_score, f1_score\n",
    "\n",
    "model_accuracy = accuracy_score(y_testing_final, y_final_prediction)\n",
    "model_precision = precision_score(y_testing_final, y_final_prediction)\n",
    "model_recall = recall_score(y_testing_final, y_final_prediction)\n",
    "model_f1_score = f1_score(y_testing_final, y_final_prediction)\\\n",
    "\n",
    "print(\"Final Model Metrics: \")\n",
    "\n",
    "print(\"Model Accuracy : %\", model_accuracy*100)\n",
    "print(\"Model Precision: %\", model_precision*100)\n",
    "print(\"Model Recall   : %\", model_recall*100)\n",
    "print(\"Model F1 Score : %\", model_f1_score*100)"
   ]
  },
  {
   "cell_type": "code",
   "execution_count": null,
   "id": "f3d6d24d-eda2-43a7-af9a-64ac9cb31ebc",
   "metadata": {},
   "outputs": [],
   "source": []
  },
  {
   "cell_type": "code",
   "execution_count": null,
   "id": "189c215c-a0ac-4e89-9e05-9912fb9cfaab",
   "metadata": {},
   "outputs": [],
   "source": []
  }
 ],
 "metadata": {
  "kernelspec": {
   "display_name": "classic_machine_learning",
   "language": "python",
   "name": "miniproject2"
  },
  "language_info": {
   "codemirror_mode": {
    "name": "ipython",
    "version": 3
   },
   "file_extension": ".py",
   "mimetype": "text/x-python",
   "name": "python",
   "nbconvert_exporter": "python",
   "pygments_lexer": "ipython3",
   "version": "3.10.16"
  }
 },
 "nbformat": 4,
 "nbformat_minor": 5
}
